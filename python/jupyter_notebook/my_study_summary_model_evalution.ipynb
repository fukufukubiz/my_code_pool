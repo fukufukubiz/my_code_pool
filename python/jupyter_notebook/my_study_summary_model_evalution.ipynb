{
 "cells": [
  {
   "cell_type": "markdown",
   "metadata": {},
   "source": [
    "# Python - 機械学習モデルの構築・評価  "
   ]
  },
  {
   "cell_type": "markdown",
   "metadata": {},
   "source": [
    "2020/04/15"
   ]
  },
  {
   "cell_type": "markdown",
   "metadata": {},
   "source": [
    "- 参考教材\n",
    "    - SkillUp AI\n",
    "        - <https://www.skillupai.com/python_jdla/>\n",
    "            - 機械学習のためのPython入門講座"
   ]
  },
  {
   "cell_type": "markdown",
   "metadata": {},
   "source": [
    "- ここでは scikit-learn を利用する"
   ]
  },
  {
   "cell_type": "markdown",
   "metadata": {},
   "source": [
    "## 学習の流れ\n",
    "- データの整理\n",
    "- データの可視化\n",
    "- データの前処理\n",
    "- 学習モデルの作成\n",
    "- データの学習\n",
    "- 予測・評価"
   ]
  },
  {
   "cell_type": "markdown",
   "metadata": {},
   "source": [
    "## 用語整理\n",
    "- 教師あり学習\n",
    "    - データとそれに対応する理想の出力を与えて、その関係性をコンピュータに理解させる\n",
    "    - アノテーション:教師データを作成する事\n",
    "    - アルゴリズムの例\n",
    "        - サポートベクターマシン、決定木、ニューラルネットワーク\n",
    "            - 決定木:条件分岐を学習する手法\n",
    "    - アサンブル学習:予測精度が低い分類器(弱学習器)を複数作成して  \n",
    "      予測結果を多数決で決める手法\n",
    "         - 予測性能の高い分類器を作成できる可能性がある\n",
    "         - 過学習を防ぐのに有効\n",
    "             - 本番データに対してうまく予測できなくなる状態\n",
    "             - 人間で言うところの丸暗記のイメージ"
   ]
  },
  {
   "cell_type": "markdown",
   "metadata": {},
   "source": [
    "### 以下で利用するアルゴリズム\n",
    "- 決定木\n",
    "    - ランダムフォレスト:決定木をを弱学習器としてアンサンブル学習させたもの"
   ]
  },
  {
   "cell_type": "markdown",
   "metadata": {},
   "source": [
    "## フェーズ\n",
    "- 学習フェーズ\n",
    "    - 学習用データを元に関係性を習得する\n",
    "- 運用フェーズ\n",
    "    - 未知データに対して予測をする"
   ]
  },
  {
   "cell_type": "markdown",
   "metadata": {},
   "source": [
    "# 学習データの分割"
   ]
  },
  {
   "cell_type": "code",
   "execution_count": 2,
   "metadata": {},
   "outputs": [],
   "source": [
    "#ライブラリのインポート\n",
    "import numpy as np\n",
    "import pandas as pd\n",
    "from matplotlib import pyplot as plt\n",
    "import seaborn as sns\n",
    "%matplotlib inline"
   ]
  },
  {
   "cell_type": "code",
   "execution_count": 33,
   "metadata": {},
   "outputs": [],
   "source": [
    "# ※ 前処理を施したデータを用いる\n",
    "#     -> my_study_summary_preprocessing.ipynb\n",
    "train = pd.read_pickle('./titanic_train.pkl')\n",
    "test = pd.read_pickle('./titanic_test.pkl')\n",
    "data = [train,test]"
   ]
  },
  {
   "cell_type": "markdown",
   "metadata": {},
   "source": [
    "- データについて確認\n",
    "    - train : 学習用データ。教師データ（Survived)がある。 \n",
    "    - test : 予測させたいデータ。いわゆる未知のデータ。教師データ（Survived)がない。\n",
    "        -  これから予測して答えを出す"
   ]
  },
  {
   "cell_type": "code",
   "execution_count": 34,
   "metadata": {},
   "outputs": [
    {
     "data": {
      "text/html": [
       "<div>\n",
       "<style scoped>\n",
       "    .dataframe tbody tr th:only-of-type {\n",
       "        vertical-align: middle;\n",
       "    }\n",
       "\n",
       "    .dataframe tbody tr th {\n",
       "        vertical-align: top;\n",
       "    }\n",
       "\n",
       "    .dataframe thead th {\n",
       "        text-align: right;\n",
       "    }\n",
       "</style>\n",
       "<table border=\"1\" class=\"dataframe\">\n",
       "  <thead>\n",
       "    <tr style=\"text-align: right;\">\n",
       "      <th></th>\n",
       "      <th>Survived</th>\n",
       "      <th>Pclass</th>\n",
       "      <th>Sex</th>\n",
       "      <th>SibSp</th>\n",
       "      <th>Parch</th>\n",
       "      <th>Embarked</th>\n",
       "      <th>Title</th>\n",
       "      <th>Age_band</th>\n",
       "      <th>Fare_band</th>\n",
       "    </tr>\n",
       "  </thead>\n",
       "  <tbody>\n",
       "    <tr>\n",
       "      <th>0</th>\n",
       "      <td>0</td>\n",
       "      <td>3</td>\n",
       "      <td>1</td>\n",
       "      <td>1</td>\n",
       "      <td>0</td>\n",
       "      <td>0</td>\n",
       "      <td>0</td>\n",
       "      <td>1</td>\n",
       "      <td>0</td>\n",
       "    </tr>\n",
       "    <tr>\n",
       "      <th>1</th>\n",
       "      <td>1</td>\n",
       "      <td>1</td>\n",
       "      <td>0</td>\n",
       "      <td>1</td>\n",
       "      <td>0</td>\n",
       "      <td>1</td>\n",
       "      <td>2</td>\n",
       "      <td>3</td>\n",
       "      <td>4</td>\n",
       "    </tr>\n",
       "    <tr>\n",
       "      <th>2</th>\n",
       "      <td>1</td>\n",
       "      <td>3</td>\n",
       "      <td>0</td>\n",
       "      <td>0</td>\n",
       "      <td>0</td>\n",
       "      <td>0</td>\n",
       "      <td>1</td>\n",
       "      <td>1</td>\n",
       "      <td>0</td>\n",
       "    </tr>\n",
       "    <tr>\n",
       "      <th>3</th>\n",
       "      <td>1</td>\n",
       "      <td>1</td>\n",
       "      <td>0</td>\n",
       "      <td>1</td>\n",
       "      <td>0</td>\n",
       "      <td>0</td>\n",
       "      <td>2</td>\n",
       "      <td>2</td>\n",
       "      <td>3</td>\n",
       "    </tr>\n",
       "    <tr>\n",
       "      <th>4</th>\n",
       "      <td>0</td>\n",
       "      <td>3</td>\n",
       "      <td>1</td>\n",
       "      <td>0</td>\n",
       "      <td>0</td>\n",
       "      <td>0</td>\n",
       "      <td>0</td>\n",
       "      <td>2</td>\n",
       "      <td>1</td>\n",
       "    </tr>\n",
       "  </tbody>\n",
       "</table>\n",
       "</div>"
      ],
      "text/plain": [
       "   Survived  Pclass Sex  SibSp  Parch Embarked Title Age_band Fare_band\n",
       "0         0       3   1      1      0        0     0        1         0\n",
       "1         1       1   0      1      0        1     2        3         4\n",
       "2         1       3   0      0      0        0     1        1         0\n",
       "3         1       1   0      1      0        0     2        2         3\n",
       "4         0       3   1      0      0        0     0        2         1"
      ]
     },
     "execution_count": 34,
     "metadata": {},
     "output_type": "execute_result"
    }
   ],
   "source": [
    "data[0].head()"
   ]
  },
  {
   "cell_type": "code",
   "execution_count": 35,
   "metadata": {},
   "outputs": [
    {
     "data": {
      "text/html": [
       "<div>\n",
       "<style scoped>\n",
       "    .dataframe tbody tr th:only-of-type {\n",
       "        vertical-align: middle;\n",
       "    }\n",
       "\n",
       "    .dataframe tbody tr th {\n",
       "        vertical-align: top;\n",
       "    }\n",
       "\n",
       "    .dataframe thead th {\n",
       "        text-align: right;\n",
       "    }\n",
       "</style>\n",
       "<table border=\"1\" class=\"dataframe\">\n",
       "  <thead>\n",
       "    <tr style=\"text-align: right;\">\n",
       "      <th></th>\n",
       "      <th>Pclass</th>\n",
       "      <th>Sex</th>\n",
       "      <th>SibSp</th>\n",
       "      <th>Parch</th>\n",
       "      <th>Embarked</th>\n",
       "      <th>Title</th>\n",
       "      <th>Age_band</th>\n",
       "      <th>Fare_band</th>\n",
       "    </tr>\n",
       "  </thead>\n",
       "  <tbody>\n",
       "    <tr>\n",
       "      <th>0</th>\n",
       "      <td>3</td>\n",
       "      <td>1</td>\n",
       "      <td>0</td>\n",
       "      <td>0</td>\n",
       "      <td>2</td>\n",
       "      <td>0</td>\n",
       "      <td>2</td>\n",
       "      <td>0</td>\n",
       "    </tr>\n",
       "    <tr>\n",
       "      <th>1</th>\n",
       "      <td>3</td>\n",
       "      <td>0</td>\n",
       "      <td>1</td>\n",
       "      <td>0</td>\n",
       "      <td>0</td>\n",
       "      <td>2</td>\n",
       "      <td>3</td>\n",
       "      <td>0</td>\n",
       "    </tr>\n",
       "    <tr>\n",
       "      <th>2</th>\n",
       "      <td>2</td>\n",
       "      <td>1</td>\n",
       "      <td>0</td>\n",
       "      <td>0</td>\n",
       "      <td>2</td>\n",
       "      <td>0</td>\n",
       "      <td>4</td>\n",
       "      <td>1</td>\n",
       "    </tr>\n",
       "    <tr>\n",
       "      <th>3</th>\n",
       "      <td>3</td>\n",
       "      <td>1</td>\n",
       "      <td>0</td>\n",
       "      <td>0</td>\n",
       "      <td>0</td>\n",
       "      <td>0</td>\n",
       "      <td>1</td>\n",
       "      <td>1</td>\n",
       "    </tr>\n",
       "    <tr>\n",
       "      <th>4</th>\n",
       "      <td>3</td>\n",
       "      <td>0</td>\n",
       "      <td>1</td>\n",
       "      <td>1</td>\n",
       "      <td>0</td>\n",
       "      <td>2</td>\n",
       "      <td>1</td>\n",
       "      <td>1</td>\n",
       "    </tr>\n",
       "  </tbody>\n",
       "</table>\n",
       "</div>"
      ],
      "text/plain": [
       "   Pclass Sex  SibSp  Parch Embarked Title Age_band Fare_band\n",
       "0       3   1      0      0        2     0        2         0\n",
       "1       3   0      1      0        0     2        3         0\n",
       "2       2   1      0      0        2     0        4         1\n",
       "3       3   1      0      0        0     0        1         1\n",
       "4       3   0      1      1        0     2        1         1"
      ]
     },
     "execution_count": 35,
     "metadata": {},
     "output_type": "execute_result"
    }
   ],
   "source": [
    "data[1].head()"
   ]
  },
  {
   "cell_type": "markdown",
   "metadata": {},
   "source": [
    "- この状態での問題点\n",
    "    - testのデータには答えがないため、 正解したかどうかを確かめる術がない\n",
    "    - モデルの予測精度が測定できない。モデルの評価ができない\n",
    "- そこで...\n",
    "    - trainの一部のデータを分類器の検証用に用いることとする\n",
    "    - trainを　tr_train　と　tr_test　に分割"
   ]
  },
  {
   "cell_type": "code",
   "execution_count": 36,
   "metadata": {},
   "outputs": [],
   "source": [
    "# 訓練データとテストデータの分割を行う\n",
    "from sklearn.model_selection import train_test_split"
   ]
  },
  {
   "cell_type": "markdown",
   "metadata": {},
   "source": [
    "- ここでは、tr_trainデータ数：tr_testのデータ数　= 7:3 に分ける"
   ]
  },
  {
   "cell_type": "code",
   "execution_count": 37,
   "metadata": {},
   "outputs": [],
   "source": [
    "# trainデータを分割する\n",
    "#  test_size : テストデータに割り当てる割合\n",
    "#  random_state : 乱数を制御するパラメータ。\n",
    "#                             Noneにすると毎回違うデータが生成される\n",
    "#                             整数を渡すと毎回同じデータが生成される\n",
    "#                                -> 同じ整数にすると同じデータが生成される\n",
    "tr_train,tr_test = train_test_split(train, test_size = 0.3, random_state = 1234) "
   ]
  },
  {
   "cell_type": "markdown",
   "metadata": {},
   "source": [
    "- 以下のようにデータを分割する\n",
    "    - tr_train_X : tr_trainのSurvived列【以外】のデータ\n",
    "    - tr_train_Y : tr_trainのSurvived列のみ\n",
    "    - tr_test_X : tr_testのSurvived列【以外】のデータ\n",
    "    - tr_test_Y : tr_testのSurvived列のみ"
   ]
  },
  {
   "cell_type": "code",
   "execution_count": 38,
   "metadata": {},
   "outputs": [
    {
     "data": {
      "text/plain": [
       "Index(['Pclass', 'Sex', 'SibSp', 'Parch', 'Embarked', 'Title', 'Age_band',\n",
       "       'Fare_band'],\n",
       "      dtype='object')"
      ]
     },
     "execution_count": 38,
     "metadata": {},
     "output_type": "execute_result"
    }
   ],
   "source": [
    "train.columns[1:]"
   ]
  },
  {
   "cell_type": "code",
   "execution_count": 39,
   "metadata": {},
   "outputs": [
    {
     "data": {
      "text/plain": [
       "'Survived'"
      ]
     },
     "execution_count": 39,
     "metadata": {},
     "output_type": "execute_result"
    }
   ],
   "source": [
    "train.columns[0]"
   ]
  },
  {
   "cell_type": "code",
   "execution_count": 50,
   "metadata": {},
   "outputs": [],
   "source": [
    "#訓練用の説明変数\n",
    "tr_train_X = tr_train[train.columns[1:]]\n",
    "\n",
    "# 訓練用の目的変数\n",
    "tr_train_Y = tr_train[train.columns[0]]\n",
    "\n",
    "# 評価用の説明変数\n",
    "tr_test_X = tr_test[train.columns[1:]]\n",
    "\n",
    "# 評価用の目的変数\n",
    "tr_test_Y = tr_test[train.columns[0]]"
   ]
  },
  {
   "cell_type": "code",
   "execution_count": 41,
   "metadata": {},
   "outputs": [
    {
     "data": {
      "text/html": [
       "<div>\n",
       "<style scoped>\n",
       "    .dataframe tbody tr th:only-of-type {\n",
       "        vertical-align: middle;\n",
       "    }\n",
       "\n",
       "    .dataframe tbody tr th {\n",
       "        vertical-align: top;\n",
       "    }\n",
       "\n",
       "    .dataframe thead th {\n",
       "        text-align: right;\n",
       "    }\n",
       "</style>\n",
       "<table border=\"1\" class=\"dataframe\">\n",
       "  <thead>\n",
       "    <tr style=\"text-align: right;\">\n",
       "      <th></th>\n",
       "      <th>Pclass</th>\n",
       "      <th>Sex</th>\n",
       "      <th>SibSp</th>\n",
       "      <th>Parch</th>\n",
       "      <th>Embarked</th>\n",
       "      <th>Title</th>\n",
       "      <th>Age_band</th>\n",
       "      <th>Fare_band</th>\n",
       "    </tr>\n",
       "  </thead>\n",
       "  <tbody>\n",
       "    <tr>\n",
       "      <th>28</th>\n",
       "      <td>3</td>\n",
       "      <td>0</td>\n",
       "      <td>0</td>\n",
       "      <td>0</td>\n",
       "      <td>2</td>\n",
       "      <td>1</td>\n",
       "      <td>0</td>\n",
       "      <td>0</td>\n",
       "    </tr>\n",
       "    <tr>\n",
       "      <th>270</th>\n",
       "      <td>1</td>\n",
       "      <td>1</td>\n",
       "      <td>0</td>\n",
       "      <td>0</td>\n",
       "      <td>0</td>\n",
       "      <td>0</td>\n",
       "      <td>2</td>\n",
       "      <td>3</td>\n",
       "    </tr>\n",
       "    <tr>\n",
       "      <th>744</th>\n",
       "      <td>3</td>\n",
       "      <td>1</td>\n",
       "      <td>0</td>\n",
       "      <td>0</td>\n",
       "      <td>0</td>\n",
       "      <td>0</td>\n",
       "      <td>2</td>\n",
       "      <td>0</td>\n",
       "    </tr>\n",
       "    <tr>\n",
       "      <th>73</th>\n",
       "      <td>3</td>\n",
       "      <td>1</td>\n",
       "      <td>1</td>\n",
       "      <td>0</td>\n",
       "      <td>1</td>\n",
       "      <td>0</td>\n",
       "      <td>1</td>\n",
       "      <td>1</td>\n",
       "    </tr>\n",
       "    <tr>\n",
       "      <th>423</th>\n",
       "      <td>3</td>\n",
       "      <td>0</td>\n",
       "      <td>1</td>\n",
       "      <td>1</td>\n",
       "      <td>0</td>\n",
       "      <td>2</td>\n",
       "      <td>1</td>\n",
       "      <td>1</td>\n",
       "    </tr>\n",
       "  </tbody>\n",
       "</table>\n",
       "</div>"
      ],
      "text/plain": [
       "     Pclass Sex  SibSp  Parch Embarked Title Age_band Fare_band\n",
       "28        3   0      0      0        2     1        0         0\n",
       "270       1   1      0      0        0     0        2         3\n",
       "744       3   1      0      0        0     0        2         0\n",
       "73        3   1      1      0        1     0        1         1\n",
       "423       3   0      1      1        0     2        1         1"
      ]
     },
     "execution_count": 41,
     "metadata": {},
     "output_type": "execute_result"
    }
   ],
   "source": [
    "tr_train_X.head()"
   ]
  },
  {
   "cell_type": "code",
   "execution_count": 42,
   "metadata": {},
   "outputs": [
    {
     "data": {
      "text/plain": [
       "28     1\n",
       "270    0\n",
       "744    1\n",
       "73     0\n",
       "423    0\n",
       "Name: Survived, dtype: int64"
      ]
     },
     "execution_count": 42,
     "metadata": {},
     "output_type": "execute_result"
    }
   ],
   "source": [
    "tr_train_Y.head()"
   ]
  },
  {
   "cell_type": "markdown",
   "metadata": {},
   "source": [
    "# モデルの構築"
   ]
  },
  {
   "cell_type": "markdown",
   "metadata": {},
   "source": [
    "## 決定木"
   ]
  },
  {
   "cell_type": "code",
   "execution_count": 51,
   "metadata": {},
   "outputs": [],
   "source": [
    "# 決定木\n",
    "from sklearn import tree\n",
    "\n",
    "# 決定木分類器\n",
    "model = tree.DecisionTreeClassifier()"
   ]
  },
  {
   "cell_type": "markdown",
   "metadata": {},
   "source": [
    "- このモデルにtr_train_Xのデータを学習させ、tr_train_Yのデータを分類し判別率を算出"
   ]
  },
  {
   "cell_type": "code",
   "execution_count": 58,
   "metadata": {},
   "outputs": [
    {
     "data": {
      "text/plain": [
       "DecisionTreeClassifier(ccp_alpha=0.0, class_weight=None, criterion='gini',\n",
       "                       max_depth=None, max_features=None, max_leaf_nodes=None,\n",
       "                       min_impurity_decrease=0.0, min_impurity_split=None,\n",
       "                       min_samples_leaf=1, min_samples_split=2,\n",
       "                       min_weight_fraction_leaf=0.0, presort='deprecated',\n",
       "                       random_state=None, splitter='best')"
      ]
     },
     "execution_count": 58,
     "metadata": {},
     "output_type": "execute_result"
    }
   ],
   "source": [
    "# fitで学習させる\n",
    "# 引数 : 説明変数,目的変数\n",
    "model.fit( tr_train_X, tr_train_Y )"
   ]
  },
  {
   "cell_type": "code",
   "execution_count": 61,
   "metadata": {},
   "outputs": [],
   "source": [
    "# 生成されたモデルを用いて、テスト用の説明変数に対する予測値を取得\n",
    "# 引数 : 説明変数\n",
    "predict = model.predict( tr_test_X )"
   ]
  },
  {
   "cell_type": "markdown",
   "metadata": {},
   "source": [
    "- 判別率を確認"
   ]
  },
  {
   "cell_type": "code",
   "execution_count": 67,
   "metadata": {},
   "outputs": [
    {
     "name": "stdout",
     "output_type": "stream",
     "text": [
      "判別率 ： 0.7835820895522388\n"
     ]
    }
   ],
   "source": [
    "from sklearn import metrics\n",
    "\n",
    "# matrics.accuracy_score\n",
    "#   - 精度を最大1.0としたスコアを返す\n",
    "#   - 予測値と正解値を与えて正解率を算出\n",
    "score = metrics.accuracy_score( predict, tr_test_Y )\n",
    "print( f'判別率 ： {score}' )"
   ]
  },
  {
   "cell_type": "markdown",
   "metadata": {},
   "source": [
    "## アンサンブル学習 - ランダムフォレスト"
   ]
  },
  {
   "cell_type": "markdown",
   "metadata": {},
   "source": [
    "- ランダムフォレストのモデルを設定\n",
    "- n_estimatorは100とする\n",
    "    - 決定木を100個作って、多数決をとる"
   ]
  },
  {
   "cell_type": "code",
   "execution_count": 68,
   "metadata": {},
   "outputs": [],
   "source": [
    "# ランダムフォレスト\n",
    "from sklearn.ensemble import RandomForestClassifier\n",
    "\n",
    "# 決定木の数をn_estimatorsで指定\n",
    "model = RandomForestClassifier( n_estimators = 100 )"
   ]
  },
  {
   "cell_type": "code",
   "execution_count": 70,
   "metadata": {},
   "outputs": [
    {
     "data": {
      "text/plain": [
       "RandomForestClassifier(bootstrap=True, ccp_alpha=0.0, class_weight=None,\n",
       "                       criterion='gini', max_depth=None, max_features='auto',\n",
       "                       max_leaf_nodes=None, max_samples=None,\n",
       "                       min_impurity_decrease=0.0, min_impurity_split=None,\n",
       "                       min_samples_leaf=1, min_samples_split=2,\n",
       "                       min_weight_fraction_leaf=0.0, n_estimators=100,\n",
       "                       n_jobs=None, oob_score=False, random_state=None,\n",
       "                       verbose=0, warm_start=False)"
      ]
     },
     "execution_count": 70,
     "metadata": {},
     "output_type": "execute_result"
    }
   ],
   "source": [
    "# 学習\n",
    "model.fit(tr_train_X,tr_train_Y)"
   ]
  },
  {
   "cell_type": "code",
   "execution_count": 76,
   "metadata": {},
   "outputs": [],
   "source": [
    "# 予測\n",
    "predict = model.predict( tr_test_X )"
   ]
  },
  {
   "cell_type": "code",
   "execution_count": 84,
   "metadata": {},
   "outputs": [
    {
     "name": "stdout",
     "output_type": "stream",
     "text": [
      "判別率:0.7985074626865671\n"
     ]
    }
   ],
   "source": [
    "from sklearn import metrics\n",
    "\n",
    "# 判別率を算出\n",
    "score = metrics.accuracy_score( predict, tr_test_Y )\n",
    "print( f'判別率:{score}' )"
   ]
  },
  {
   "cell_type": "markdown",
   "metadata": {},
   "source": [
    "# モデルの検証"
   ]
  },
  {
   "cell_type": "markdown",
   "metadata": {},
   "source": [
    "#### 課題\n",
    "- モデル品質を評価したい\n",
    "- 品質・精度を上げたい\n",
    "  \n",
    "  \n",
    "#### 対策\n",
    "- 別のテストデータに対しても同じ精度は出るか確かめる\n",
    "    - データ分類に対する工夫\n",
    "- 同じアルゴリズムでも調整次第で精度が上がるか確かめる\n",
    "    - ハイパーパラメータチューニング"
   ]
  },
  {
   "cell_type": "markdown",
   "metadata": {},
   "source": [
    "### データ分類するときの問題点\n",
    "- 先ほどの手法ではテストデータが偏っている可能性がある\n",
    "    - 割合でテストデータを選出するのは、ホールドアウト検証と呼ばれる手法\n",
    "    - この手法では過学習を検知できない\n",
    "  \n",
    "- k-分割交差検証 (クロスバリデーション)\n",
    "    - データをk個に分割して、それぞれをテストデータとみなして、分類精度を測る\n",
    "    - k回の分類精度測定が終わったら、各回の精度の平均値を出して、  \n",
    "      最終的な制度と見なす\n",
    "    - こちらの手法では、過学習を検知できる"
   ]
  },
  {
   "cell_type": "markdown",
   "metadata": {},
   "source": [
    "## K-分割交差検証"
   ]
  },
  {
   "cell_type": "code",
   "execution_count": 85,
   "metadata": {},
   "outputs": [],
   "source": [
    "# KFold : 交差検証のライブラリ\n",
    "# cross_val_score : 交差検証のスコアを求めるライブラリ\n",
    "# cross_val_predict : 交差検証による予測に関するライブラリ\n",
    "from sklearn.model_selection import KFold, cross_val_score, cross_val_predict"
   ]
  },
  {
   "cell_type": "code",
   "execution_count": 86,
   "metadata": {},
   "outputs": [],
   "source": [
    "# - 分割数 n_splits\n",
    "# - ランダム性の固定を行う random_state\n",
    "# - データのシャッフル shuffle\n",
    "kf = KFold( n_splits = 5, random_state = 30, shuffle = True)"
   ]
  },
  {
   "cell_type": "code",
   "execution_count": 89,
   "metadata": {},
   "outputs": [
    {
     "name": "stdout",
     "output_type": "stream",
     "text": [
      "cv : [0.80446927 0.78651685 0.85955056 0.8258427  0.79213483]\n"
     ]
    }
   ],
   "source": [
    "# 説明変数\n",
    "x = train[train.columns[1:]]\n",
    "\n",
    "# 目的変数\n",
    "y = train['Survived']\n",
    "\n",
    "#  モデル、x , y, k-分割交差検証の設定\n",
    "# 　　- 分割した数分の予測精度が得られる\n",
    "#      [例] n_splits = 5 なら、5つの結果\n",
    "cv_result = cross_val_score(model, x, y, cv = kf)\n",
    "print(f'cv : {cv_result}')"
   ]
  },
  {
   "cell_type": "code",
   "execution_count": 90,
   "metadata": {},
   "outputs": [
    {
     "name": "stdout",
     "output_type": "stream",
     "text": [
      "平均精度：0.8137028435126483\n"
     ]
    }
   ],
   "source": [
    "# 上記の平均を取れば、このモデルの制度が求まる\n",
    "cv_result_mean = cv_result.mean()\n",
    "print(f'平均精度：{cv_result_mean}')"
   ]
  },
  {
   "cell_type": "markdown",
   "metadata": {},
   "source": [
    "## ハイパーパラメータチューニング"
   ]
  },
  {
   "cell_type": "markdown",
   "metadata": {},
   "source": [
    "- ハイパーパラメータ\n",
    "    - モデルが持つパラメータ\n",
    "    - 学習パラメータ\n",
    "    - 学習する前に人間が決めておく必要がある\n",
    "        - [例] 決定木の数、決定木の深さ ...\n",
    "- チューニング方法\n",
    "    - ランダムサーチ\n",
    "    - グリッドサーチ\n",
    "    - ベイズ最適化\n",
    "    - ただし、複数のパラメータの調整には時間とマシンパワーを要する"
   ]
  },
  {
   "cell_type": "markdown",
   "metadata": {},
   "source": [
    "### ハイパーパラメータチューニング - グリッドサーチ"
   ]
  },
  {
   "cell_type": "markdown",
   "metadata": {},
   "source": [
    "- ハイパーパラメータチューニングの最も基本的な手法を取り上げて実行してみる\n",
    "  \n",
    "  \n",
    "- 範囲を決めてパラメータを網羅的に探索する手法\n",
    "- 決めた範囲の中で最も良かったパラメータを採用する"
   ]
  },
  {
   "cell_type": "code",
   "execution_count": 91,
   "metadata": {
    "scrolled": true
   },
   "outputs": [
    {
     "name": "stdout",
     "output_type": "stream",
     "text": [
      "Fitting 5 folds for each of 9 candidates, totalling 45 fits\n"
     ]
    },
    {
     "name": "stderr",
     "output_type": "stream",
     "text": [
      "[Parallel(n_jobs=1)]: Using backend SequentialBackend with 1 concurrent workers.\n",
      "[Parallel(n_jobs=1)]: Done  45 out of  45 | elapsed:   34.7s finished\n"
     ]
    },
    {
     "data": {
      "text/plain": [
       "GridSearchCV(cv=5, error_score=nan,\n",
       "             estimator=RandomForestClassifier(bootstrap=True, ccp_alpha=0.0,\n",
       "                                              class_weight=None,\n",
       "                                              criterion='gini', max_depth=None,\n",
       "                                              max_features='auto',\n",
       "                                              max_leaf_nodes=None,\n",
       "                                              max_samples=None,\n",
       "                                              min_impurity_decrease=0.0,\n",
       "                                              min_impurity_split=None,\n",
       "                                              min_samples_leaf=1,\n",
       "                                              min_samples_split=2,\n",
       "                                              min_weight_fraction_leaf=0.0,\n",
       "                                              n_estimators=100, n_jobs=None,\n",
       "                                              oob_score=False, random_state=0,\n",
       "                                              verbose=0, warm_start=False),\n",
       "             iid='deprecated', n_jobs=None,\n",
       "             param_grid={'n_estimators': range(100, 1000, 100)},\n",
       "             pre_dispatch='2*n_jobs', refit=True, return_train_score=False,\n",
       "             scoring=None, verbose=True)"
      ]
     },
     "execution_count": 91,
     "metadata": {},
     "output_type": "execute_result"
    }
   ],
   "source": [
    "# グリッドサーチ\n",
    "from sklearn.model_selection import GridSearchCV\n",
    "\n",
    "# サーチしたいハイパーパラメータ、および探る範囲の指定\n",
    "#   -> 次の例では、ターゲットにするパラメータを n_estimators とする\n",
    "#        予測子の数を100~900まで、100刻みで探る\n",
    "param = { 'n_estimators' : range(100,1000,100) }\n",
    "\n",
    "# 分類器はランダムフォレストを指定\n",
    "# cvに与えた数値分だけ、交差検証を行う\n",
    "GS_rf = GridSearchCV(\n",
    "            estimator = RandomForestClassifier(random_state = 0),\n",
    "            param_grid = param,\n",
    "            verbose = True,\n",
    "            cv = 5)\n",
    "GS_rf.fit(x,y)"
   ]
  },
  {
   "cell_type": "code",
   "execution_count": 92,
   "metadata": {},
   "outputs": [
    {
     "name": "stdout",
     "output_type": "stream",
     "text": [
      "ベストスコア：0.8103320569957944\n",
      "最適なパラメータ：RandomForestClassifier(bootstrap=True, ccp_alpha=0.0, class_weight=None,\n",
      "                       criterion='gini', max_depth=None, max_features='auto',\n",
      "                       max_leaf_nodes=None, max_samples=None,\n",
      "                       min_impurity_decrease=0.0, min_impurity_split=None,\n",
      "                       min_samples_leaf=1, min_samples_split=2,\n",
      "                       min_weight_fraction_leaf=0.0, n_estimators=700,\n",
      "                       n_jobs=None, oob_score=False, random_state=0, verbose=0,\n",
      "                       warm_start=False)\n"
     ]
    }
   ],
   "source": [
    "print(f'ベストスコア：{GS_rf.best_score_}')\n",
    "print(f'最適なパラメータ：{GS_rf.best_estimator_}')"
   ]
  },
  {
   "cell_type": "code",
   "execution_count": 100,
   "metadata": {},
   "outputs": [
    {
     "data": {
      "text/plain": [
       "700"
      ]
     },
     "execution_count": 100,
     "metadata": {},
     "output_type": "execute_result"
    }
   ],
   "source": [
    "#### 今回チューニングしたパラメータ : n_estimators の値を確認する場合\n",
    "GS_rf.best_estimator_.n_estimators"
   ]
  },
  {
   "cell_type": "markdown",
   "metadata": {},
   "source": [
    "### test用のデータセット(test.csv)をこのモデルに従って分類"
   ]
  },
  {
   "cell_type": "code",
   "execution_count": 101,
   "metadata": {},
   "outputs": [],
   "source": [
    "# グリッドサーチで得られたベストなモデルを使用\n",
    "model = GS_rf.best_estimator_\n",
    "\n",
    "# 学習\n",
    "model.fit(train[train.columns[1:]] ,train[train.columns[0]])\n",
    "\n",
    "# テストデータに対する予測を実施\n",
    "test_prediction = model.predict(test)"
   ]
  },
  {
   "cell_type": "markdown",
   "metadata": {},
   "source": [
    "- タイタニックデータを使った分析課題を出している Kaggle の課題内容に合わせて\n",
    "  分析をしてみる。\n",
    "    - <https://www.kaggle.com/ftnext/kaggle-spzcolab-201906>\n",
    "        - > 3. 予測対象データの生死を予測\n",
    "    - <https://www.kaggle.com/c/titanic/discussion/78274>\n",
    "        - > 'PassengerId': np.arange(892, 1310)"
   ]
  },
  {
   "cell_type": "code",
   "execution_count": 102,
   "metadata": {},
   "outputs": [],
   "source": [
    "# Kaggleの課題では、\n",
    "#     PassengerId 892 ~ 1310\n",
    "# の範囲を使っている。これを参考に同じ PassengerId の値の範囲を指定する\n",
    "passenger_id = np.arange(892,1310)\n",
    "\n",
    "# -> 後ろに指定した 1310 は含まないので、892〜1309 が対象という点に注意"
   ]
  },
  {
   "cell_type": "code",
   "execution_count": 103,
   "metadata": {},
   "outputs": [
    {
     "name": "stdout",
     "output_type": "stream",
     "text": [
      "   PassengerId  Survived\n",
      "0          892         0\n",
      "1          893         0\n",
      "2          894         0\n",
      "3          895         0\n",
      "4          896         0\n",
      "5          897         0\n",
      "6          898         0\n",
      "7          899         0\n",
      "8          900         1\n",
      "9          901         0\n"
     ]
    }
   ],
   "source": [
    "# PassengerIdと予測結果をデータフレーム化\n",
    "test_result = pd.DataFrame( { 'PassengerId': passenger_id , 'Survived': test_prediction } )\n",
    "print(test_result.head(10))"
   ]
  },
  {
   "cell_type": "code",
   "execution_count": 104,
   "metadata": {},
   "outputs": [],
   "source": [
    "# 生成したデータフレームをcsvとして保存\n",
    "test_result.to_csv( 'titanic_forsubmisson.csv' , index = False )"
   ]
  },
  {
   "cell_type": "code",
   "execution_count": 105,
   "metadata": {},
   "outputs": [
    {
     "data": {
      "image/png": "[encoded data removed]",
      "text/plain": [
       "<Figure size 432x288 with 1 Axes>"
      ]
     },
     "metadata": {
      "needs_background": "light"
     },
     "output_type": "display_data"
    }
   ],
   "source": [
    "# 説明変数の重要度を確認する\n",
    "#   - 分類に貢献した度合いを確認する\n",
    "#   - 予測するのにどのパラメータが効いたか（有効だったか）\n",
    "feature_importances = pd.DataFrame(\n",
    "                {'feature_importances':model.feature_importances_}\n",
    ")\n",
    "sns.barplot(tr_train_X.columns, feature_importances['feature_importances'])\n",
    "plt.show()"
   ]
  },
  {
   "cell_type": "markdown",
   "metadata": {},
   "source": [
    "- 上記結果からは、Title(敬称)が最も予測に貢献した説明変数だったと言える\n",
    "    - 前処理で作成したパラメータが効いている、ということでもある"
   ]
  }
 ],
 "metadata": {
  "anaconda-cloud": {},
  "kernelspec": {
   "display_name": "Python 3",
   "language": "python",
   "name": "python3"
  },
  "language_info": {
   "codemirror_mode": {
    "name": "ipython",
    "version": 3
   },
   "file_extension": ".py",
   "mimetype": "text/x-python",
   "name": "python",
   "nbconvert_exporter": "python",
   "pygments_lexer": "ipython3",
   "version": "3.7.7"
  }
 },
 "nbformat": 4,
 "nbformat_minor": 2
}
